{
 "cells": [
  {
   "cell_type": "code",
   "execution_count": 1,
   "metadata": {},
   "outputs": [],
   "source": [
    "import re"
   ]
  },
  {
   "cell_type": "code",
   "execution_count": 3,
   "metadata": {},
   "outputs": [
    {
     "ename": "KeyError",
     "evalue": "'ProfilePage'",
     "output_type": "error",
     "traceback": [
      "\u001b[0;31m---------------------------------------------------------------------------\u001b[0m",
      "\u001b[0;31mKeyError\u001b[0m                                  Traceback (most recent call last)",
      "\u001b[1;32m/Users/dinesh/Desktop/Git/twitterscrapingstreamlit/check_api.ipynb Cell 2'\u001b[0m in \u001b[0;36m<cell line: 4>\u001b[0;34m()\u001b[0m\n\u001b[1;32m      <a href='vscode-notebook-cell:/Users/dinesh/Desktop/Git/twitterscrapingstreamlit/check_api.ipynb#ch0000010?line=0'>1</a>\u001b[0m \u001b[39mfrom\u001b[39;00m \u001b[39minstagramy\u001b[39;00m \u001b[39mimport\u001b[39;00m InstagramUser\n\u001b[1;32m      <a href='vscode-notebook-cell:/Users/dinesh/Desktop/Git/twitterscrapingstreamlit/check_api.ipynb#ch0000010?line=2'>3</a>\u001b[0m \u001b[39m# Connecting the profile \u001b[39;00m\n\u001b[0;32m----> <a href='vscode-notebook-cell:/Users/dinesh/Desktop/Git/twitterscrapingstreamlit/check_api.ipynb#ch0000010?line=3'>4</a>\u001b[0m user \u001b[39m=\u001b[39m InstagramUser(\u001b[39m\"\u001b[39;49m\u001b[39mdinesh\u001b[39;49m\u001b[39m\"\u001b[39;49m)\n",
      "File \u001b[0;32m/usr/local/anaconda3/lib/python3.9/site-packages/instagramy/InstagramUser.py:63\u001b[0m, in \u001b[0;36mInstagramUser.__init__\u001b[0;34m(self, username, sessionid, from_cache)\u001b[0m\n\u001b[1;32m     <a href='file:///usr/local/anaconda3/lib/python3.9/site-packages/instagramy/InstagramUser.py?line=59'>60</a>\u001b[0m \u001b[39melse\u001b[39;00m:\n\u001b[1;32m     <a href='file:///usr/local/anaconda3/lib/python3.9/site-packages/instagramy/InstagramUser.py?line=60'>61</a>\u001b[0m     data \u001b[39m=\u001b[39m \u001b[39mself\u001b[39m\u001b[39m.\u001b[39mget_json()\n\u001b[1;32m     <a href='file:///usr/local/anaconda3/lib/python3.9/site-packages/instagramy/InstagramUser.py?line=61'>62</a>\u001b[0m     cache\u001b[39m.\u001b[39mmake_cache(\n\u001b[0;32m---> <a href='file:///usr/local/anaconda3/lib/python3.9/site-packages/instagramy/InstagramUser.py?line=62'>63</a>\u001b[0m         username, data[\u001b[39m\"\u001b[39;49m\u001b[39mentry_data\u001b[39;49m\u001b[39m\"\u001b[39;49m][\u001b[39m\"\u001b[39;49m\u001b[39mProfilePage\u001b[39;49m\u001b[39m\"\u001b[39;49m][\u001b[39m0\u001b[39m][\u001b[39m\"\u001b[39m\u001b[39mgraphql\u001b[39m\u001b[39m\"\u001b[39m][\u001b[39m\"\u001b[39m\u001b[39muser\u001b[39m\u001b[39m\"\u001b[39m]\n\u001b[1;32m     <a href='file:///usr/local/anaconda3/lib/python3.9/site-packages/instagramy/InstagramUser.py?line=63'>64</a>\u001b[0m     )\n\u001b[1;32m     <a href='file:///usr/local/anaconda3/lib/python3.9/site-packages/instagramy/InstagramUser.py?line=64'>65</a>\u001b[0m     \u001b[39mtry\u001b[39;00m:\n\u001b[1;32m     <a href='file:///usr/local/anaconda3/lib/python3.9/site-packages/instagramy/InstagramUser.py?line=65'>66</a>\u001b[0m         \u001b[39mself\u001b[39m\u001b[39m.\u001b[39muser_data \u001b[39m=\u001b[39m data[\u001b[39m\"\u001b[39m\u001b[39mentry_data\u001b[39m\u001b[39m\"\u001b[39m][\u001b[39m\"\u001b[39m\u001b[39mProfilePage\u001b[39m\u001b[39m\"\u001b[39m][\u001b[39m0\u001b[39m][\u001b[39m\"\u001b[39m\u001b[39mgraphql\u001b[39m\u001b[39m\"\u001b[39m][\u001b[39m\"\u001b[39m\u001b[39muser\u001b[39m\u001b[39m\"\u001b[39m]\n",
      "\u001b[0;31mKeyError\u001b[0m: 'ProfilePage'"
     ]
    }
   ],
   "source": [
    "from instagramy import InstagramUser\n",
    "\n",
    "# Connecting the profile \n",
    "user = InstagramUser(\"dinesh\") "
   ]
  },
  {
   "cell_type": "code",
   "execution_count": null,
   "metadata": {},
   "outputs": [],
   "source": [
    "from instagramy import InstagramUser\n",
    "\n",
    "# Connecting the profile \n",
    "user = InstagramUser(\"dinesh\",from_cache=False) \n",
    "\n",
    "# printing the basic details like \n",
    "# followers, following, bio \n",
    "print(user.is_verified) \n",
    "print(user.number_of_followers) \n",
    "print(user.biography) \n",
    "\n",
    "# return list of dicts \n",
    "posts = user.posts \n",
    "\n",
    "print('\\n\\nLikes', 'Comments') \n",
    "for post in posts: \n",
    "\tlikes = post[\"likes\"] \n",
    "\tcomments = post[\"comment\"] \n",
    "\tprint(likes,comments)\n"
   ]
  },
  {
   "cell_type": "code",
   "execution_count": null,
   "metadata": {},
   "outputs": [],
   "source": [
    "user."
   ]
  },
  {
   "cell_type": "code",
   "execution_count": null,
   "metadata": {},
   "outputs": [],
   "source": [
    "k[46540:]"
   ]
  },
  {
   "cell_type": "code",
   "execution_count": null,
   "metadata": {},
   "outputs": [],
   "source": [
    "user.posts"
   ]
  },
  {
   "cell_type": "code",
   "execution_count": null,
   "metadata": {},
   "outputs": [],
   "source": [
    "user.number_of_followers,user.number_of_followings,user.username,user.biography,user.number_of_posts,user.fullname,user."
   ]
  },
  {
   "cell_type": "code",
   "execution_count": null,
   "metadata": {},
   "outputs": [],
   "source": [
    "dir(instagramy)"
   ]
  },
  {
   "cell_type": "code",
   "execution_count": null,
   "metadata": {},
   "outputs": [],
   "source": []
  }
 ],
 "metadata": {
  "interpreter": {
   "hash": "3067ead486e059ec00ffe7555bdb889e6e264a24dc711bf108106cc7baee8d5d"
  },
  "kernelspec": {
   "display_name": "Python 3.9.12 ('base')",
   "language": "python",
   "name": "python3"
  },
  "language_info": {
   "codemirror_mode": {
    "name": "ipython",
    "version": 3
   },
   "file_extension": ".py",
   "mimetype": "text/x-python",
   "name": "python",
   "nbconvert_exporter": "python",
   "pygments_lexer": "ipython3",
   "version": "3.9.12"
  },
  "orig_nbformat": 4
 },
 "nbformat": 4,
 "nbformat_minor": 2
}
